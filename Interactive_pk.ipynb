{
 "cells": [
  {
   "cell_type": "code",
   "execution_count": null,
   "id": "f4c66ee0",
   "metadata": {},
   "outputs": [],
   "source": [
    "import numpy as np\n",
    "import matplotlib.pyplot as plt\n",
    "import classy\n",
    "import ipywidgets as widgets\n",
    "from ipywidgets import interact"
   ]
  },
  {
   "cell_type": "markdown",
   "id": "69e74752",
   "metadata": {},
   "source": [
    "# Compute the power spectrum using CLASS"
   ]
  },
  {
   "cell_type": "code",
   "execution_count": null,
   "id": "e950f960",
   "metadata": {},
   "outputs": [],
   "source": [
    "def get_matter_power_spectrum_class(Omega_m, Omega_b, H0, ns, sigma8, z):\n",
    "    # Define CLASS input parameters\n",
    "    params = {\n",
    "        'output': 'mPk',  # Request the matter power spectrum\n",
    "        'P_k_max_1/Mpc': 1.0,  # Maximum k for the power spectrum\n",
    "        'z_pk': '0.0',  # Compute power spectrum at redshift 0\n",
    "        'h': H0 / 100,  # Dimensionless Hubble parameter\n",
    "        'Omega_b': Omega_b,  # Baryon density parameter\n",
    "        'Omega_cdm': Omega_m - Omega_b,  # CDM density parameter\n",
    "        'n_s': ns,  # Scalar spectral index\n",
    "        'sigma8': sigma8,  # Normalization of the power spectrum\n",
    "        'z_max_pk': 3.0 #Maximum redshift for power spectrum\n",
    "    }\n",
    "\n",
    "    h = H0/100\n",
    "    # Create an instance of the CLASS object\n",
    "    cosmo = classy.Class()\n",
    "    cosmo.set(params)\n",
    "    cosmo.compute()\n",
    "    \n",
    "    # Get the matter power spectrum at z=0\n",
    "    kh = np.logspace(-3, 0, 100)  # k values in h/Mpc\n",
    "    pk = np.array([cosmo.pk(k*h, z) for k in kh])  # Power spectrum values at input z\n",
    "    \n",
    "    cosmo.struct_cleanup()\n",
    "    cosmo.empty()\n",
    "    \n",
    "    return kh, pk"
   ]
  },
  {
   "cell_type": "markdown",
   "id": "e25ba6c2",
   "metadata": {},
   "source": [
    "# Plot the power spectrum"
   ]
  },
  {
   "cell_type": "code",
   "execution_count": null,
   "id": "3d374bf0",
   "metadata": {},
   "outputs": [],
   "source": [
    "# Plotting function\n",
    "\n",
    "def plot_power_spectrum_class(Omega_m, Omega_b, H0, ns, sigma8, z):\n",
    "    kh, pk = get_matter_power_spectrum_class(Omega_m, Omega_b, H0, ns, sigma8, z)\n",
    "    \n",
    "    # Plot the power spectrum\n",
    "    plt.figure(figsize=(8, 6))\n",
    "    plt.loglog(kh, pk, label=r'$P(k)$', color='g', lw=1.5)\n",
    "    plt.xlabel(r'Wave number $k$ [h/Mpc]')\n",
    "    plt.ylabel(r'Power Spectrum $P(k)$ $[(h/Mpc)^3]$')\n",
    "    plt.title('Matter Power Spectrum from CLASS')\n",
    "    plt.ylim(10**2,2.5*10**5)\n",
    "    plt.xlim(10**(-3),1)\n",
    "    plt.grid(True, which='both', ls='--', lw=0.5)\n",
    "    plt.legend()\n",
    "    plt.show()"
   ]
  },
  {
   "cell_type": "code",
   "execution_count": null,
   "id": "8e225996",
   "metadata": {},
   "outputs": [],
   "source": [
    "# Compare two cases\n",
    "\n",
    "def compare_power_spectrum_class(parameter, value_1, value_2):\n",
    "    \n",
    "    Omega_m = 0.3\n",
    "    Omega_b = 0.05 \n",
    "    H0 = 70\n",
    "    ns = 0.96\n",
    "    sigma8 = 0.8\n",
    "    z = 0\n",
    "    \n",
    "    if parameter == 'Omega_m':\n",
    "        Omega_m1 = value_1\n",
    "        Omega_m2 = value_2\n",
    "        kh1, pk1 = get_matter_power_spectrum_class(Omega_m1, Omega_b, H0, ns, sigma8, z)\n",
    "        kh2, pk2 = get_matter_power_spectrum_class(Omega_m2, Omega_b, H0, ns, sigma8, z)\n",
    "        \n",
    "    if parameter == 'Omega_b':\n",
    "        Omega_b1 = value_1\n",
    "        Omega_b2 = value_2\n",
    "        kh1, pk1 = get_matter_power_spectrum_class(Omega_m, Omega_b1, H0, ns, sigma8, z)\n",
    "        kh2, pk2 = get_matter_power_spectrum_class(Omega_m, Omega_b2, H0, ns, sigma8, z)\n",
    "        \n",
    "    if parameter == 'H0':\n",
    "        H01 = value_1\n",
    "        H02 = value_2\n",
    "        kh1, pk1 = get_matter_power_spectrum_class(Omega_m, Omega_b, H01, ns, sigma8, z)\n",
    "        kh2, pk2 = get_matter_power_spectrum_class(Omega_m, Omega_b, H02, ns, sigma8, z)\n",
    "        \n",
    "    if parameter == 'ns':\n",
    "        ns1 = value_1\n",
    "        ns2 = value_2\n",
    "        kh1, pk1 = get_matter_power_spectrum_class(Omega_m, Omega_b, H0, ns1, sigma8, z)\n",
    "        kh2, pk2 = get_matter_power_spectrum_class(Omega_m, Omega_b, H0, ns2, sigma8, z)\n",
    "        \n",
    "    if parameter == 'sigma8':\n",
    "        sigma8_1 = value_1\n",
    "        sigma8_2 = value_2\n",
    "        kh1, pk1 = get_matter_power_spectrum_class(Omega_m, Omega_b, H0, ns, sigma8_1, z)\n",
    "        kh2, pk2 = get_matter_power_spectrum_class(Omega_m, Omega_b, H0, ns, sigma8_2, z)\n",
    "        \n",
    "    if parameter == 'z':\n",
    "        z1 = value_1\n",
    "        z2 = value_2\n",
    "        kh1, pk1 = get_matter_power_spectrum_class(Omega_m, Omega_b, H0, ns, sigma8, z1)\n",
    "        kh2, pk2 = get_matter_power_spectrum_class(Omega_m, Omega_b, H0, ns, sigma8, z2)\n",
    "        \n",
    "    if parameter == 'a':\n",
    "        z1 = 1/value_1 - 1\n",
    "        z2 = 1/value_2 - 1\n",
    "        kh1, pk1 = get_matter_power_spectrum_class(Omega_m, Omega_b, H0, ns, sigma8, z1)\n",
    "        kh2, pk2 = get_matter_power_spectrum_class(Omega_m, Omega_b, H0, ns, sigma8, z2)\n",
    "        \n",
    "    paramsnames = {'Omega_m':r'$\\Omega_m$','Omega_b':r'$\\Omega_b$','H0':r'H$_0$', 'ns':r'$n_s$', 'sigma8':r'$\\sigma_8$', 'z':'z', 'a':'a'}\n",
    "    \n",
    "    # Plot the power spectrum\n",
    "    plt.figure(figsize=(8, 6))\n",
    "    plt.loglog(kh1, pk1, label=paramsnames[parameter] + '=' + str(value_1), color='g', lw=1.5)\n",
    "    plt.loglog(kh2, pk2, label=paramsnames[parameter] + '=' + str(value_2), color='r', lw=1.5)\n",
    "    plt.xlabel(r'Wave number $k$ [h/Mpc]')\n",
    "    plt.ylabel(r'Power Spectrum $P(k)$ $[(h/Mpc)^3]$')\n",
    "    plt.title('Matter Power Spectrum from CLASS')\n",
    "    plt.ylim(10**2,2.5*10**5)\n",
    "    plt.xlim(10**(-3),1)\n",
    "    plt.grid(True, which='both', ls='--', lw=0.5)\n",
    "    plt.legend()\n",
    "    plt.show()"
   ]
  },
  {
   "cell_type": "markdown",
   "id": "f106c125",
   "metadata": {},
   "source": [
    "# Compare the spectra of different cosmologies two by two"
   ]
  },
  {
   "cell_type": "code",
   "execution_count": null,
   "id": "9a0bac45",
   "metadata": {},
   "outputs": [],
   "source": [
    "compare_power_spectrum_class('Omega_b', 0.02, 0.08)"
   ]
  },
  {
   "cell_type": "code",
   "execution_count": null,
   "id": "7500180d",
   "metadata": {},
   "outputs": [],
   "source": [
    "compare_power_spectrum_class('Omega_m', 0.25, 0.45)"
   ]
  },
  {
   "cell_type": "code",
   "execution_count": null,
   "id": "681a6af1",
   "metadata": {},
   "outputs": [],
   "source": [
    "compare_power_spectrum_class('a', 0.2, 0.8)"
   ]
  },
  {
   "cell_type": "code",
   "execution_count": null,
   "id": "181874d3",
   "metadata": {},
   "outputs": [],
   "source": [
    "compare_power_spectrum_class('ns', 0.85, 1.05)"
   ]
  },
  {
   "cell_type": "markdown",
   "id": "90611075",
   "metadata": {},
   "source": [
    "# Create an interactive plot to vary all the parameters"
   ]
  },
  {
   "cell_type": "code",
   "execution_count": null,
   "id": "d0be8860",
   "metadata": {},
   "outputs": [],
   "source": [
    "# Create interactive widgets\n",
    "interact(\n",
    "    plot_power_spectrum_class,\n",
    "    Omega_m=widgets.FloatSlider(min=0.1, max=0.5, step=0.01, value=0.3, description=r'$\\Omega_m$'),\n",
    "    H0=widgets.FloatSlider(min=50, max=80, step=1, value=70, description=r'H$_0$'),\n",
    "    ns=widgets.FloatSlider(min=0.9, max=1.1, step=0.01, value=0.96, description=r'$n_s$'),\n",
    "    sigma8=widgets.FloatSlider(min=0.6, max=1.0, step=0.01, value=0.8, description=r'$\\sigma_8$'),\n",
    "    Omega_b=widgets.FloatSlider(min=0.02, max=0.08, step=0.005, value=0.05, description=r'$\\Omega_b$'),\n",
    "    z=widgets.FloatSlider(min=0, max=3, step=0.1, value=0.0, description=r'$z$')\n",
    ")"
   ]
  }
 ],
 "metadata": {
  "kernelspec": {
   "display_name": "basic_env",
   "language": "python",
   "name": "basic_env"
  },
  "language_info": {
   "codemirror_mode": {
    "name": "ipython",
    "version": 3
   },
   "file_extension": ".py",
   "mimetype": "text/x-python",
   "name": "python",
   "nbconvert_exporter": "python",
   "pygments_lexer": "ipython3",
   "version": "3.9.13"
  }
 },
 "nbformat": 4,
 "nbformat_minor": 5
}
