{
 "cells": [
  {
   "cell_type": "code",
   "execution_count": null,
   "id": "f4c66ee0",
   "metadata": {},
   "outputs": [],
   "source": [
    "import numpy as np\n",
    "import matplotlib.pyplot as plt\n",
    "import classy\n",
    "import ipywidgets as widgets\n",
    "from ipywidgets import interact"
   ]
  },
  {
   "cell_type": "code",
   "execution_count": null,
   "id": "e950f960",
   "metadata": {},
   "outputs": [],
   "source": [
    "# Function to compute the matter power spectrum using CLASS\n",
    "def get_matter_power_spectrum_class(Omega_m, Omega_b, H0, ns, sigma8):\n",
    "    # Define CLASS input parameters\n",
    "    params = {\n",
    "        'output': 'mPk',  # Request the matter power spectrum\n",
    "        'P_k_max_1/Mpc': 1.0,  # Maximum k for the power spectrum\n",
    "        'z_pk': '0.0',  # Compute power spectrum at redshift 0\n",
    "        'h': H0 / 100,  # Dimensionless Hubble parameter\n",
    "        'Omega_b': Omega_b,  # Baryon density parameter\n",
    "        'Omega_cdm': Omega_m - Omega_b,  # CDM density parameter\n",
    "        'n_s': ns,  # Scalar spectral index\n",
    "        'sigma8': sigma8  # Normalization of the power spectrum\n",
    "    }\n",
    "\n",
    "    h = H0/100\n",
    "    # Create an instance of the CLASS object\n",
    "    cosmo = classy.Class()\n",
    "    cosmo.set(params)\n",
    "    cosmo.compute()\n",
    "    \n",
    "    # Get the matter power spectrum at z=0\n",
    "    kh = np.logspace(-3, 0, 100)  # k values in h/Mpc\n",
    "    pk = np.array([cosmo.pk(k*h, 0) for k in kh])  # Power spectrum values at z=0\n",
    "    \n",
    "    cosmo.struct_cleanup()\n",
    "    cosmo.empty()\n",
    "    \n",
    "    return kh, pk"
   ]
  },
  {
   "cell_type": "code",
   "execution_count": null,
   "id": "3d374bf0",
   "metadata": {},
   "outputs": [],
   "source": [
    "# Plotting function\n",
    "def plot_power_spectrum_class(Omega_m, Omega_b, H0, ns, sigma8):\n",
    "    kh, pk = get_matter_power_spectrum_class(Omega_m, Omega_b, H0, ns, sigma8)\n",
    "    \n",
    "    # Plot the power spectrum\n",
    "    plt.figure(figsize=(8, 6))\n",
    "    plt.loglog(kh, pk, label=r'$P(k)$', color='g', lw=1.5)\n",
    "    plt.xlabel(r'Wave number $k$ [h/Mpc]')\n",
    "    plt.ylabel(r'Power Spectrum $P(k)$')\n",
    "    plt.title('Matter Power Spectrum from CLASS')\n",
    "    plt.ylim(10**2,2.5*10**5)\n",
    "    plt.xlim(10**(-3),1)\n",
    "    plt.grid(True, which='both', ls='--', lw=0.5)\n",
    "    plt.legend()\n",
    "    plt.show()"
   ]
  },
  {
   "cell_type": "code",
   "execution_count": null,
   "id": "d0be8860",
   "metadata": {},
   "outputs": [],
   "source": [
    "# Create interactive widgets\n",
    "interact(\n",
    "    plot_power_spectrum_class,\n",
    "    Omega_m=widgets.FloatSlider(min=0.1, max=0.5, step=0.01, value=0.3, description=r'$\\Omega_m$'),\n",
    "    H0=widgets.FloatSlider(min=50, max=80, step=1, value=70, description=r'H$_0$'),\n",
    "    ns=widgets.FloatSlider(min=0.9, max=1.1, step=0.01, value=0.96, description=r'$n_s$'),\n",
    "    sigma8=widgets.FloatSlider(min=0.6, max=1.0, step=0.01, value=0.8, description=r'$\\sigma_8$'),\n",
    "    Omega_b=widgets.FloatSlider(min=0.02, max=0.08, step=0.005, value=0.05, description=r'$\\Omega_b$')\n",
    ")"
   ]
  }
 ],
 "metadata": {
  "kernelspec": {
   "display_name": "basic_env",
   "language": "python",
   "name": "basic_env"
  },
  "language_info": {
   "codemirror_mode": {
    "name": "ipython",
    "version": 3
   },
   "file_extension": ".py",
   "mimetype": "text/x-python",
   "name": "python",
   "nbconvert_exporter": "python",
   "pygments_lexer": "ipython3",
   "version": "3.9.13"
  }
 },
 "nbformat": 4,
 "nbformat_minor": 5
}
